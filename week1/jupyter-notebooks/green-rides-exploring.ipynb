{
 "cells": [
  {
   "cell_type": "code",
   "execution_count": null,
   "id": "6296c8cc",
   "metadata": {},
   "outputs": [],
   "source": [
    "import pandas as pd"
   ]
  },
  {
   "cell_type": "code",
   "execution_count": null,
   "id": "c1218612",
   "metadata": {},
   "outputs": [],
   "source": [
    "import datetime"
   ]
  },
  {
   "cell_type": "code",
   "execution_count": null,
   "id": "8439ad18",
   "metadata": {},
   "outputs": [],
   "source": [
    "pd.set_option('display.max_rows', 20)"
   ]
  },
  {
   "cell_type": "code",
   "execution_count": null,
   "id": "0c407b95",
   "metadata": {},
   "outputs": [],
   "source": [
    "trips_df = pd.read_csv(\"ny_taxi_raw_data/green_tripdata_2019-01.csv\")\n",
    "trips_df.lpep_pickup_datetime = pd.to_datetime(trips_df.lpep_pickup_datetime)\n",
    "trips_df.lpep_dropoff_datetime = pd.to_datetime(trips_df.lpep_dropoff_datetime)\n",
    "trips_df.loc[trips_df[\"store_and_fwd_flag\"] == \"N\", \"store_and_fwd_flag\"] = 'False'\n",
    "trips_df[\"store_and_fwd_flag\"] = trips_df[\"store_and_fwd_flag\"].astype(bool)"
   ]
  },
  {
   "cell_type": "code",
   "execution_count": null,
   "id": "d45be5ce",
   "metadata": {
    "scrolled": false
   },
   "outputs": [],
   "source": [
    "trips_df.dtypes "
   ]
  },
  {
   "cell_type": "code",
   "execution_count": null,
   "id": "28a60644",
   "metadata": {},
   "outputs": [],
   "source": [
    "trips_df['congestion_surcharge']"
   ]
  },
  {
   "cell_type": "markdown",
   "id": "03894169",
   "metadata": {},
   "source": [
    "## Count rides that started and ended on January 15 2019"
   ]
  },
  {
   "cell_type": "code",
   "execution_count": null,
   "id": "c9bbc142",
   "metadata": {},
   "outputs": [],
   "source": [
    "filter_date = datetime.date(2019, 1, 15)"
   ]
  },
  {
   "cell_type": "code",
   "execution_count": null,
   "id": "cc27f59e",
   "metadata": {},
   "outputs": [],
   "source": [
    "trips_df = pd.read_csv(\"ny_taxi_raw_data/green_tripdata_2019-01.csv\")\n",
    "trips_df = trips_df[[\"lpep_pickup_datetime\", \"lpep_dropoff_datetime\"]]\n",
    "trips_df.lpep_pickup_datetime = pd.to_datetime(trips_df.lpep_pickup_datetime).dt.date\n",
    "trips_df.lpep_dropoff_datetime = pd.to_datetime(trips_df.lpep_dropoff_datetime).dt.date"
   ]
  },
  {
   "cell_type": "code",
   "execution_count": null,
   "id": "30c1e4ce",
   "metadata": {},
   "outputs": [],
   "source": [
    "trips_df.info()"
   ]
  },
  {
   "cell_type": "code",
   "execution_count": null,
   "id": "5e5a6761",
   "metadata": {},
   "outputs": [],
   "source": [
    "mask = ((trips_df['lpep_pickup_datetime'] == filter_date)\\\n",
    "        & (trips_df['lpep_dropoff_datetime'] == filter_date))"
   ]
  },
  {
   "cell_type": "code",
   "execution_count": null,
   "id": "74983b77",
   "metadata": {},
   "outputs": [],
   "source": [
    "trips_df = trips_df.loc[mask]"
   ]
  },
  {
   "cell_type": "code",
   "execution_count": null,
   "id": "1b739ed2",
   "metadata": {},
   "outputs": [],
   "source": [
    "trips_df.shape[0]"
   ]
  },
  {
   "cell_type": "markdown",
   "id": "5f11e2ba",
   "metadata": {},
   "source": [
    "## Day with the largest trip distance"
   ]
  },
  {
   "cell_type": "code",
   "execution_count": null,
   "id": "4af02722",
   "metadata": {},
   "outputs": [],
   "source": [
    "trips_df = pd.read_csv(\"ny_taxi_raw_data/green_tripdata_2019-01.csv\")"
   ]
  },
  {
   "cell_type": "code",
   "execution_count": null,
   "id": "dded4da7",
   "metadata": {},
   "outputs": [],
   "source": [
    "trips_df = trips_df[[\"lpep_pickup_datetime\", \"trip_distance\"]]\n",
    "trips_df.lpep_pickup_datetime = pd.to_datetime(trips_df.lpep_pickup_datetime).dt.date"
   ]
  },
  {
   "cell_type": "code",
   "execution_count": null,
   "id": "66399a04",
   "metadata": {},
   "outputs": [],
   "source": [
    "trips_df.dtypes"
   ]
  },
  {
   "cell_type": "code",
   "execution_count": null,
   "id": "229fd460",
   "metadata": {},
   "outputs": [],
   "source": [
    "trips_df = trips_df.groupby(by=\"lpep_pickup_datetime\", dropna=False).aggregate({\"trip_distance\": \"max\"})"
   ]
  },
  {
   "cell_type": "code",
   "execution_count": null,
   "id": "0f7e1017",
   "metadata": {},
   "outputs": [],
   "source": [
    "trips_df.head()"
   ]
  },
  {
   "cell_type": "code",
   "execution_count": null,
   "id": "d86a50b2",
   "metadata": {},
   "outputs": [],
   "source": [
    "trips_df.loc[trips_df[\"trip_distance\"] == trips_df.trip_distance.max()]"
   ]
  },
  {
   "cell_type": "markdown",
   "id": "42b218fc",
   "metadata": {},
   "source": [
    "## Number of rides for specific date by passenger numbers"
   ]
  },
  {
   "cell_type": "code",
   "execution_count": null,
   "id": "a7e2bf43",
   "metadata": {},
   "outputs": [],
   "source": [
    "trips_df = pd.read_csv(\"ny_taxi_raw_data/green_tripdata_2019-01.csv\")"
   ]
  },
  {
   "cell_type": "code",
   "execution_count": null,
   "id": "68d33294",
   "metadata": {},
   "outputs": [],
   "source": [
    "trips_df = trips_df[[\"lpep_pickup_datetime\", \"lpep_dropoff_datetime\", \"passenger_count\"]]\n",
    "trips_df.lpep_pickup_datetime = pd.to_datetime(trips_df.lpep_pickup_datetime).dt.date\n",
    "trips_df.lpep_dropoff_datetime = pd.to_datetime(trips_df.lpep_dropoff_datetime).dt.date"
   ]
  },
  {
   "cell_type": "code",
   "execution_count": null,
   "id": "0bd78793",
   "metadata": {},
   "outputs": [],
   "source": [
    "report_date = datetime.date(2019, 1, 1)"
   ]
  },
  {
   "cell_type": "code",
   "execution_count": null,
   "id": "5b6cf988",
   "metadata": {},
   "outputs": [],
   "source": [
    "dates_filter = ((trips_df[\"lpep_pickup_datetime\"] == report_date))"
   ]
  },
  {
   "cell_type": "code",
   "execution_count": null,
   "id": "494af003",
   "metadata": {},
   "outputs": [],
   "source": [
    "trips_df = (trips_df.loc[dates_filter])[trips_df[\"passenger_count\"].isin([2, 3])]"
   ]
  },
  {
   "cell_type": "code",
   "execution_count": null,
   "id": "7575c602",
   "metadata": {},
   "outputs": [],
   "source": [
    "trips_df.groupby(by=\"passenger_count\").count()"
   ]
  },
  {
   "cell_type": "markdown",
   "id": "f91267db",
   "metadata": {},
   "source": [
    "## Drop up zone with the largest tip"
   ]
  },
  {
   "cell_type": "markdown",
   "id": "347b32cc",
   "metadata": {},
   "source": [
    "For the passengers picked up in the Astoria Zone which was the drop up zone that had the largest tip?\n",
    "We want the name of the zone, not the id."
   ]
  },
  {
   "cell_type": "code",
   "execution_count": null,
   "id": "f7745380",
   "metadata": {},
   "outputs": [],
   "source": [
    "trips_df = pd.read_csv(\"ny_taxi_raw_data/green_tripdata_2019-01.csv\")"
   ]
  },
  {
   "cell_type": "code",
   "execution_count": null,
   "id": "9c36f077",
   "metadata": {},
   "outputs": [],
   "source": [
    "trips_df = trips_df[[\"PULocationID\", \"DOLocationID\", \"tip_amount\"]]"
   ]
  },
  {
   "cell_type": "code",
   "execution_count": null,
   "id": "94518127",
   "metadata": {},
   "outputs": [],
   "source": [
    "trips_locations_df = pd.read_csv(\"ny_taxi_raw_data/green_tripdate_locations_lookup.csv\")"
   ]
  },
  {
   "cell_type": "code",
   "execution_count": null,
   "id": "a76dd6ca",
   "metadata": {},
   "outputs": [],
   "source": [
    "trips_locations_df = trips_locations_df[[\"LocationID\", \"Zone\"]]"
   ]
  },
  {
   "cell_type": "code",
   "execution_count": null,
   "id": "e64c45cb",
   "metadata": {},
   "outputs": [],
   "source": [
    "filter_location_id = (trips_locations_df.loc[trips_locations_df[\"Zone\"] == \"Astoria\"]).LocationID.iloc[0]"
   ]
  },
  {
   "cell_type": "code",
   "execution_count": null,
   "id": "414cf16c",
   "metadata": {},
   "outputs": [],
   "source": [
    "trips_df = trips_df.loc[trips_df[\"PULocationID\"] == filter_location_id]"
   ]
  },
  {
   "cell_type": "code",
   "execution_count": null,
   "id": "9bf8f382",
   "metadata": {},
   "outputs": [],
   "source": [
    "trips_df = trips_df.loc[trips_df[\"tip_amount\"] == trips_df.tip_amount.max()]"
   ]
  },
  {
   "cell_type": "code",
   "execution_count": null,
   "id": "25c048fe",
   "metadata": {},
   "outputs": [],
   "source": [
    "enriched_trips_df = trips_df.merge(trips_locations_df, how=\"left\", left_on=\"PULocationID\", right_on=\"LocationID\")\n"
   ]
  },
  {
   "cell_type": "code",
   "execution_count": null,
   "id": "bfbd9457",
   "metadata": {},
   "outputs": [],
   "source": [
    "enriched_trips_df = enriched_trips_df.rename(columns={\"Zone\": \"picked_up_zone\"})"
   ]
  },
  {
   "cell_type": "code",
   "execution_count": null,
   "id": "08df8071",
   "metadata": {},
   "outputs": [],
   "source": [
    "enriched_trips_df = enriched_trips_df.merge(trips_locations_df, \n",
    "                                            how=\"left\", left_on=\"DOLocationID\", right_on=\"LocationID\")"
   ]
  },
  {
   "cell_type": "code",
   "execution_count": null,
   "id": "a9a715f1",
   "metadata": {},
   "outputs": [],
   "source": [
    "enriched_trips_df = enriched_trips_df.rename(columns={\"Zone\": \"drop_off_zone\"})"
   ]
  },
  {
   "cell_type": "code",
   "execution_count": null,
   "id": "b8991df5",
   "metadata": {},
   "outputs": [],
   "source": [
    "enriched_trips_df = enriched_trips_df[[\"picked_up_zone\", \"drop_off_zone\", \"tip_amount\"]]"
   ]
  },
  {
   "cell_type": "code",
   "execution_count": null,
   "id": "d4ec0b24",
   "metadata": {},
   "outputs": [],
   "source": [
    "enriched_trips_df.head()"
   ]
  },
  {
   "cell_type": "code",
   "execution_count": null,
   "id": "b52870c4",
   "metadata": {},
   "outputs": [],
   "source": [
    "trips_enriched_df = trips_df.join()"
   ]
  }
 ],
 "metadata": {
  "kernelspec": {
   "display_name": "Python 3",
   "language": "python",
   "name": "python3"
  },
  "language_info": {
   "codemirror_mode": {
    "name": "ipython",
    "version": 3
   },
   "file_extension": ".py",
   "mimetype": "text/x-python",
   "name": "python",
   "nbconvert_exporter": "python",
   "pygments_lexer": "ipython3",
   "version": "3.8.9 (default, Oct 26 2021, 07:25:54) \n[Clang 13.0.0 (clang-1300.0.29.30)]"
  },
  "vscode": {
   "interpreter": {
    "hash": "2a220009da6296707d86de1d7d0d774e2b99758a737b67e4e25d65a91c538ba3"
   }
  }
 },
 "nbformat": 4,
 "nbformat_minor": 5
}
